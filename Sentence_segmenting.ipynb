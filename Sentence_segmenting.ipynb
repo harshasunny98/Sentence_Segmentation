{
 "cells": [
  {
   "cell_type": "code",
   "execution_count": 16,
   "metadata": {},
   "outputs": [
    {
     "name": "stdout",
     "output_type": "stream",
     "text": [
      "Before Processing the text\n",
      "Anonymous is a loosely associated international network of activist and hacktivist entities. A website nominally associated with the group describes it as \"an Internet gathering\" with \"a very loose and decentralized command structure that operates on ideas rather than directives\".[2] The group became known for a series of well-publicized publicity stunts and distributed denial-of-service (DDoS) attacks on government, religious, and corporate websites.[3] Anonymous originated in 2003 on the imageboard 4chan, representing the concept of many online and offline community users simultaneously existing as an anarchic, digitized global brain.[4][5][6] Anonymous members (known as \"Anons\") can be distinguished in public by the wearing of Guy Fawkes masks in the style portrayed in the graphic novel and film V for Vendetta.[7] In its early form, the concept was adopted by a decentralized online community acting anonymously in a coordinated manner, usually toward a loosely self-agreed goal, and p\n",
      "-----------------------------------------------\n",
      "After Processing the text:\n",
      "Anonymous is a loosely associated international network of activist and hacktivist entities.\n",
      "A website nominally associated with the group describes it as \"an Internet gathering\" with \"a very loose and decentralized command structure that operates on ideas rather than directives\".\n",
      "The group became known for a series of well-publicized publicity stunts and distributed denial-of-service (DDoS) attacks on government, religious, and corporate websites.\n",
      "Anonymous originated in 2003 on the imageboard 4chan, representing the concept of many online and offline community users simultaneously existing as an anarchic, digitized global brain.\n",
      "Anonymous members (known as \"Anons\") can be distinguished in public by the wearing of Guy Fawkes masks in the style portrayed in the graphic novel and film V for Vendetta.\n",
      "In its early form, the concept was adopted by a decentralized online community acting anonymously in a coordinated manner, usually toward a loosely self-agreed goal, and primarily focused on entertainment, or \"lulz\".\n",
      "Beginning with 2008's Project Chanology—a series of protests, pranks, and hacks targeting the Church of Scientology—the Anonymous collective became increasingly associated with collaborative hacktivism on a number of issues internationally.\n",
      "Individuals claiming to align themselves with Anonymous undertook protests and other actions (including direct action) in retaliation against copyright-focused campaigns by motion picture and recording industry trade associations.\n",
      "Later targets of Anonymous hacktivism included government agencies of the U.S., Israel, Tunisia, Uganda, and others; the Islamic State of Iraq and the Levant; child pornography sites; copyright protection agencies; the Westboro Baptist Church; and corporations such as PayPal, MasterCard, Visa, and Sony.\n",
      "Anons have publicly supported WikiLeaks and the Occupy movement.\n",
      "Related groups LulzSec and Operation AntiSec carried out cyberattacks on U.S.\n",
      "government agencies, media, video game companies, military contractors, military personnel, and police officers, resulting in the attention of law enforcement to the groups' activities.\n",
      "Some actions by members of the group have been described as being anti-Zionist.\n",
      "It has threatened to cyber-attack Israel and engaged in the \"#OpIsrael\" cyber-attacks of Israeli websites on Yom HaShoah (Holocaust Remembrance Day) in 2013.\n",
      "Dozens of people have been arrested for involvement in Anonymous cyberattacks, in countries including the US, UK, Australia, the Netherlands, Spain, India and Turkey.\n",
      "Evaluations of the group's actions and effectiveness vary widely.\n",
      "Supporters have called the group \"freedom fighters\" and digital Robin Hoods while critics have described them as \"a cyber lynch-mob\" or \"cyber terrorists\".\n",
      "In 2012, Time called Anonymous one of the \"100 most influential people\" in the world.\n",
      " Anonymous has no strictly defined philosophy, and internal dissent is a regular feature of the group.\n",
      "A website associated with the group describes it as \"an Internet gathering\" with \"a very loose and decentralized command structure that operates on ideas rather than directives\".\n",
      "Gabriella Coleman writes of the group, \"In some ways, it may be impossible to gauge the intent and motive of thousands of participants, many of who don't even bother to leave a trace of their thoughts, motivations, and reactions.\n",
      "Among those that do, opinions vary considerably.\" Broadly speaking, Anons oppose Internet censorship and control, and the majority of their actions target governments, organizations, and corporations that they accuse of censorship.\n",
      "Anons were early supporters of the global Occupy movement and the Arab Spring.\n",
      "Since 2008, a frequent subject of disagreement within Anonymous is whether members should focus on pranking and entertainment or more serious (and, in some cases, political) activism.\n",
      "Because Anonymous has no leadership, no action can be attributed to the membership as a whole.\n",
      "Parmy Olson and others have criticized media coverage that presents the group as well-organized or homogeneous; Olson writes, \"There was no single leader pulling the levers, but a few organizational minds that sometimes pooled together to start planning a stunt.\" Some members protest using legal means, while others employ illegal measures such as DDoS attacks and hacking.\n",
      "Membership is open to anyone who wishes to state they are a member of the collective; British journalist Carole Cadwalladr of The Observer compared the group's decentralized structure to that of al-Qaeda: \"If you believe in Anonymous, and call yourself Anonymous, you are Anonymous.\" Olson, who formerly described Anonymous as a \"brand\", stated in 2012 that she now characterized it as a \"movement\" rather than a group: \"anyone can be part of it.\n",
      "It is a crowd of people, a nebulous crowd of people, working together and doing things together for various purposes.\" The group's few rules include not disclosing one's identity, not talking about the group, and not attacking media.\n",
      "Members commonly use the tagline \"We are Anonymous.\n",
      "We are Legion.\n",
      "We do not forgive.\n",
      "We do not forget.\n",
      "Expect us.\" Brian Kelly writes that three of the group's key characteristics are \"(1) an unrelenting moral stance on issues and rights, regardless of direct provocation; (2) a physical presence that accompanies online hacking activity; and (3) a distinctive brand.\" Journalists have commented that Anonymous' secrecy, fabrications, and media awareness pose an unusual challenge for reporting on the group's actions and motivations.\n",
      "Quinn Norton of Wired writes that \"Anons lie when they have no reason to lie.\n",
      "They weave vast fabrications as a form of performance.\n",
      "Then they tell the truth at unexpected and unfortunate times, sometimes destroying themselves in the process.\n",
      "They are unpredictable.\" Norton states that the difficulties in reporting on the group cause most writers, including herself, to focus on the \"small groups of hackers who stole the limelight from a legion, defied their values, and crashed violently into the law\" rather than \"Anonymous’s sea of voices, all experimenting with new ways of being in the world\".\n",
      "The name Anonymous itself is inspired by the perceived anonymity under which users post images and comments on the Internet.\n",
      "Usage of the term Anonymous in the sense of a shared identity began on imageboards, particularly the /b/ board of 4chan, dedicated to random content.\n",
      "A tag of Anonymous is assigned to visitors who leave comments without identifying the originator of the posted content.\n",
      "Users of imageboards sometimes jokingly acted as if Anonymous was a single individual.\n",
      "The concept of the Anonymous entity advanced in 2004 when an administrator on the 4chan image board activated a \"Forced_Anon\" protocol that signed all posts as Anonymous.\n",
      "As the popularity of imageboards increased, the idea of Anonymous as a collective of unnamed individuals became an Internet meme.\n",
      "Users of 4chan's /b/ board would occasionally join into mass pranks or raids.\n",
      "In a raid on July 12, 2006, for example, large numbers of 4chan readers invaded the Finnish social networking site Habbo Hotel with identical avatars; the avatars blocked regular Habbo members from accessing the digital hotel's pool, stating it was \"closed due to fail and AIDS\".\n",
      "Future LulzSec member Topiary became involved with the site at this time, inviting large audiences to listen to his prank phone calls via Skype.\n",
      "Due to the growing traffic on 4chan's boards, users soon began to plot pranks offline using Internet Relay Chat (IRC).\n",
      "These raids resulted in the first mainstream press story on Anonymous, a report by Fox station KTTV in Los Angeles, California in the U.S.\n",
      "The report called the group \"hackers on steroids\", \"domestic terrorists\", and an \"Internet hate machine\".\n",
      "Encyclopedia Dramatica was founded in 2004 by Sherrod DiGrippo, initially as a means of documenting gossip related to livejournal, but it quickly was adopted as a major platform by Anonymous for satirical and other purposes.\n",
      "The not safe for work site celebrates a subversive \"trolling culture\", and documents Internet memes, culture, and events, such as mass pranks, trolling events, \"raids\", large-scale failures of Internet security, and criticism of Internet communities that are accused of self-censorship in order to gain prestige or positive coverage from traditional and established media outlets.\n",
      "Journalist Julian Dibbell described Encyclopædia Dramatica as the site \"where the vast parallel universe of Anonymous in-jokes, catchphrases, and obsessions is lovingly annotated, and you will discover an elaborate trolling culture: Flamingly racist and misogynist content lurks throughout, all of it calculated to offend.\" The site also played a role in the anti-Scientology campaign of Project Chanology.\n",
      "On April 14, 2011, the original URL of the site was redirected to a new website named Oh Internet that bore little resemblance to Encyclopedia Dramatica.\n",
      "Parts of the ED community harshly criticized the changes.\n",
      "In response, Anonymous launched \"Operation Save ED\" to rescue and restore the site's content.\n",
      "The Web Ecology Project made a downloadable archive of former Encyclopedia Dramatica content.\n",
      "The site's reincarnation was initially hosted at encyclopediadramatica.ch on servers owned by Ryan Cleary, who later was arrested in relation to attacks by LulzSec against Sony.\n",
      "Anonymous first became associated with hacktivism in 2008 following a series of actions against the Church of Scientology known as Project Chanology.\n",
      "On January 15, 2008, the gossip blog Gawker posted a video in which celebrity Scientologist Tom Cruise praised the religion; and the Church responded with a cease-and-desist letter for violation of copyright.\n",
      "4chan users organized a raid against the Church in retaliation, prank-calling its hotline, sending black faxes designed to waste ink cartridges, and launching DDoS attacks against its websites.\n",
      "The DDoS attacks were at first carried out with the Gigaloader \n"
     ]
    }
   ],
   "source": [
    "import requests\n",
    "from bs4 import BeautifulSoup\n",
    "import re\n",
    "\n",
    "def getTextFromURL(url):\n",
    "\tr = requests.get(url)\n",
    "\tsoup = BeautifulSoup(r.text, \"html.parser\")\n",
    "\ttext = ' '.join(map(lambda p: p.text, soup.find_all('p')))\n",
    "\treturn text\n",
    "\n",
    "def summarizeURL(url):\n",
    "\tprint(\"Before Processing the text\")    \n",
    "\tprint((getTextFromURL(url)[:1000]))   \n",
    "\tprint(\"-----------------------------------------------\")\n",
    "\tprint(\"After Processing the text:\")\n",
    "\turl_text = getTextFromURL(url).replace(u\"Â\", u\"\").replace(u\"â\", u\"\")\n",
    "\turl_text = getTextFromURL(url)\n",
    "\turl_final = (url_text.replace(\"\\n\",\" \"))\n",
    "\turl_final = re.sub(\"\\[[^\\]]*\\]\",\"\",url_final) #will kill any [STUFF]    \n",
    "\turl_final = (url_final.replace(\"  \",\" \").replace(\". \",\".\\n\"))         \n",
    "\treturn url_final\n",
    "\n",
    "url1 = \"https://en.wikipedia.org/wiki/Anonymous_(group)\"\n",
    "print (summarizeURL(url1)[:10000])\n"
   ]
  },
  {
   "cell_type": "code",
   "execution_count": null,
   "metadata": {
    "collapsed": true
   },
   "outputs": [],
   "source": []
  }
 ],
 "metadata": {
  "kernelspec": {
   "display_name": "Python 3",
   "language": "python",
   "name": "python3"
  },
  "language_info": {
   "codemirror_mode": {
    "name": "ipython",
    "version": 3
   },
   "file_extension": ".py",
   "mimetype": "text/x-python",
   "name": "python",
   "nbconvert_exporter": "python",
   "pygments_lexer": "ipython3",
   "version": "3.6.1"
  }
 },
 "nbformat": 4,
 "nbformat_minor": 2
}
